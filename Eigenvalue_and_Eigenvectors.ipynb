{
  "nbformat": 4,
  "nbformat_minor": 0,
  "metadata": {
    "colab": {
      "name": "Eigenvalue and Eigenvectors.ipynb",
      "provenance": [],
      "authorship_tag": "ABX9TyOWO7xr6KbUa+AAKWyAmDnn",
      "include_colab_link": true
    },
    "kernelspec": {
      "name": "python3",
      "display_name": "Python 3"
    },
    "language_info": {
      "name": "python"
    }
  },
  "cells": [
    {
      "cell_type": "markdown",
      "metadata": {
        "id": "view-in-github",
        "colab_type": "text"
      },
      "source": [
        "<a href=\"https://colab.research.google.com/github/joeusebio/Linear-Algebra-58020/blob/main/Eigenvalue_and_Eigenvectors.ipynb\" target=\"_parent\"><img src=\"https://colab.research.google.com/assets/colab-badge.svg\" alt=\"Open In Colab\"/></a>"
      ]
    },
    {
      "cell_type": "code",
      "metadata": {
        "id": "h93sNKrJfd-y",
        "colab": {
          "base_uri": "https://localhost:8080/"
        },
        "outputId": "2f7cc527-21f4-4696-ef72-5081517937f7"
      },
      "source": [
        "import numpy as np\n",
        "from scipy.linalg import solve\n",
        "A=np.array([[-12,3],[4,1]])\n",
        "print(A)\n",
        "\n",
        "inv_A=np.linalg.inv(A)\n",
        "print(inv_A)\n",
        "\n",
        "B=np.array([[0],[0]])\n",
        "print (B)\n",
        "\n",
        "X=np.dot(inv_A,B)\n",
        "print(X)\n",
        "#X=solve (A,B)\n",
        "#pirnt(X)"
      ],
      "execution_count": 6,
      "outputs": [
        {
          "output_type": "stream",
          "name": "stdout",
          "text": [
            "[[-12   3]\n",
            " [  4   1]]\n",
            "[[-0.04166667  0.125     ]\n",
            " [ 0.16666667  0.5       ]]\n",
            "[[0]\n",
            " [0]]\n",
            "[[0.]\n",
            " [0.]]\n"
          ]
        }
      ]
    },
    {
      "cell_type": "code",
      "metadata": {
        "colab": {
          "base_uri": "https://localhost:8080/"
        },
        "id": "XWVHgxKIqANe",
        "outputId": "7aebf2ea-0169-4ccf-9973-aa0af7c2e904"
      },
      "source": [
        "A=np.array([[-6,3],[4,5]])\n",
        "print(A)\n",
        "\n",
        "w,v=np.linalg.eig(A)\n",
        "print(\"the elgenvalues is/are\",w)\n",
        "print(\"the elgenvectors is/are\",v)\n",
        "x=v.round()\n",
        "print(x)"
      ],
      "execution_count": 8,
      "outputs": [
        {
          "output_type": "stream",
          "name": "stdout",
          "text": [
            "[[-6  3]\n",
            " [ 4  5]]\n",
            "the elgenvalues is/are [-7.  6.]\n",
            "the elgenvectors is/are [[-0.9486833  -0.24253563]\n",
            " [ 0.31622777 -0.9701425 ]]\n",
            "[[-1. -0.]\n",
            " [ 0. -1.]]\n"
          ]
        }
      ]
    },
    {
      "cell_type": "code",
      "metadata": {
        "colab": {
          "base_uri": "https://localhost:8080/"
        },
        "id": "w1fVt2zYuCfA",
        "outputId": "6db6a7b7-9192-4bcc-b741-f8c274fb90d3"
      },
      "source": [
        "#Example2\n",
        "A=np.array([[2,2,4],[1,3,5],[2,3,4]])\n",
        "print(A)\n",
        "s,t=np.linalg.eig(A)\n",
        "print(s.round())\n",
        "print(t.round())\n",
        "\n",
        "c=np.dot(A,t.round())\n",
        "print(c)"
      ],
      "execution_count": 9,
      "outputs": [
        {
          "output_type": "stream",
          "name": "stdout",
          "text": [
            "[[2 2 4]\n",
            " [1 3 5]\n",
            " [2 3 4]]\n",
            "[ 9.  1. -1.]\n",
            "[[-1. -1. -0.]\n",
            " [-1.  1. -1.]\n",
            " [-1. -0.  1.]]\n"
          ]
        }
      ]
    },
    {
      "cell_type": "code",
      "metadata": {
        "colab": {
          "base_uri": "https://localhost:8080/"
        },
        "id": "q9L2dpU7ws8x",
        "outputId": "50c1f1ed-5df6-44b8-85d2-7bab5eb9faed"
      },
      "source": [
        "f=np.array([[0],[-1],[1]])\n",
        "print(f)\n",
        "g=np.dot(A,f)\n",
        "print(g)"
      ],
      "execution_count": 11,
      "outputs": [
        {
          "output_type": "stream",
          "name": "stdout",
          "text": [
            "[[ 0]\n",
            " [-1]\n",
            " [ 1]]\n",
            "[[2]\n",
            " [2]\n",
            " [1]]\n"
          ]
        }
      ]
    }
  ]
}