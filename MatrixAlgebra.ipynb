{
  "nbformat": 4,
  "nbformat_minor": 0,
  "metadata": {
    "colab": {
      "name": "MatrixAlgebra.ipynb",
      "provenance": [],
      "authorship_tag": "ABX9TyOqS5S6FVZMYy7Pb0wIWeU0",
      "include_colab_link": true
    },
    "kernelspec": {
      "name": "python3",
      "display_name": "Python 3"
    },
    "language_info": {
      "name": "python"
    }
  },
  "cells": [
    {
      "cell_type": "markdown",
      "metadata": {
        "id": "view-in-github",
        "colab_type": "text"
      },
      "source": [
        "<a href=\"https://colab.research.google.com/github/joeusebio/Linear-Algebra-58020/blob/main/MatrixAlgebra.ipynb\" target=\"_parent\"><img src=\"https://colab.research.google.com/assets/colab-badge.svg\" alt=\"Open In Colab\"/></a>"
      ]
    },
    {
      "cell_type": "markdown",
      "metadata": {
        "id": "77j5jJ-LcBw1"
      },
      "source": [
        "Python program to inverse"
      ]
    },
    {
      "cell_type": "code",
      "metadata": {
        "colab": {
          "base_uri": "https://localhost:8080/"
        },
        "id": "FahGaEEjbwxm",
        "outputId": "207494f9-8580-4132-e4ad-5d6527cf807d"
      },
      "source": [
        "import numpy as np\n",
        "A = np.array([[1,2,],[4,7]])\n",
        "invA = (np.linalg.inv(A))\n",
        "print(invA)"
      ],
      "execution_count": 20,
      "outputs": [
        {
          "output_type": "stream",
          "name": "stdout",
          "text": [
            "[[-7.  2.]\n",
            " [ 4. -1.]]\n"
          ]
        }
      ]
    },
    {
      "cell_type": "code",
      "metadata": {
        "colab": {
          "base_uri": "https://localhost:8080/"
        },
        "id": "9pzq5qPhgyg1",
        "outputId": "7cb4022a-2600-4f18-e6ab-39f4507ed8b3"
      },
      "source": [
        "C = np.dot(A,invA)\n",
        "print(C)"
      ],
      "execution_count": 23,
      "outputs": [
        {
          "output_type": "stream",
          "name": "stdout",
          "text": [
            "[[1. 0.]\n",
            " [0. 1.]]\n"
          ]
        }
      ]
    },
    {
      "cell_type": "code",
      "metadata": {
        "colab": {
          "base_uri": "https://localhost:8080/"
        },
        "id": "4dA-Y4u1bx_1",
        "outputId": "690e29c2-bbb1-41a1-8b73-ebd6e05bccc6"
      },
      "source": [
        "##Python Program to Inverse a 3x3 Matrix A = ([6,1,1],[4,-2,5],[2,8,7])\n",
        "A = np.array([[6,1,1],[4,-2,5],[2,8,7]])\n",
        "print(A)\n",
        "B = np.transpose(A)\n",
        "print(B)"
      ],
      "execution_count": 3,
      "outputs": [
        {
          "output_type": "stream",
          "name": "stdout",
          "text": [
            "[[ 6  1  1]\n",
            " [ 4 -2  5]\n",
            " [ 2  8  7]]\n",
            "[[ 6  4  2]\n",
            " [ 1 -2  8]\n",
            " [ 1  5  7]]\n"
          ]
        }
      ]
    },
    {
      "cell_type": "code",
      "metadata": {
        "colab": {
          "base_uri": "https://localhost:8080/"
        },
        "id": "IqWfnKeybyCp",
        "outputId": "d42c69c1-b36d-44c9-8e60-ae9cc0754472"
      },
      "source": [
        "##Python Program to Inverse a 3x3 Matrix A = ([6,1,1],[4,-2,5],[2,8,7])\n",
        "A = np.array([[6,1,1],[4,-2,5],[2,8,7]])\n",
        "print(A)\n",
        "B = np.linalg.inv(A)\n",
        "print(B)"
      ],
      "execution_count": 6,
      "outputs": [
        {
          "output_type": "stream",
          "name": "stdout",
          "text": [
            "[[ 6  1  1]\n",
            " [ 4 -2  5]\n",
            " [ 2  8  7]]\n",
            "[[ 0.17647059 -0.00326797 -0.02287582]\n",
            " [ 0.05882353 -0.13071895  0.08496732]\n",
            " [-0.11764706  0.1503268   0.05228758]]\n"
          ]
        }
      ]
    },
    {
      "cell_type": "code",
      "metadata": {
        "colab": {
          "base_uri": "https://localhost:8080/"
        },
        "id": "aUXH-8bRju0q",
        "outputId": "7d1e3227-76fe-4ae2-a410-b7d9fbaa237d"
      },
      "source": [
        "##Python Program to Inverse a 4x4 Matrix A = ([6,1,1,5],[4,-2,5,7],[2,8,7,1],[4,8,9,0])\n",
        "A = np.array([[6,1,1,5],[4,-2,5,7],[2,8,7,1],[4,6,9,0]])\n",
        "print(A)\n",
        "B = np.transpose(A)\n",
        "print(B)"
      ],
      "execution_count": 31,
      "outputs": [
        {
          "output_type": "stream",
          "name": "stdout",
          "text": [
            "[[ 6  1  1  5]\n",
            " [ 4 -2  5  7]\n",
            " [ 2  8  7  1]\n",
            " [ 4  6  9  0]]\n",
            "[[ 6  4  2  4]\n",
            " [ 1 -2  8  6]\n",
            " [ 1  5  7  9]\n",
            " [ 5  7  1  0]]\n"
          ]
        }
      ]
    },
    {
      "cell_type": "code",
      "metadata": {
        "colab": {
          "base_uri": "https://localhost:8080/"
        },
        "id": "_lX6WhXmkCT7",
        "outputId": "74f9d2cf-013c-4620-d1d2-8bf5f4d3886f"
      },
      "source": [
        "##Python Program to Inverse a 4x4 Matrix A = ([6,1,1,5],[4,-2,5,7],[2,8,7,1],[4,8,9,0])\n",
        "A = np.array([[6,1,1,5],[4,-2,5,7],[2,8,7,1],[4,6,9,0]])\n",
        "print(A)\n",
        "B = np.linalg.inv(A)\n",
        "print(B)"
      ],
      "execution_count": 32,
      "outputs": [
        {
          "output_type": "stream",
          "name": "stdout",
          "text": [
            "[[ 6  1  1  5]\n",
            " [ 4 -2  5  7]\n",
            " [ 2  8  7  1]\n",
            " [ 4  6  9  0]]\n",
            "[[ 1.76470588e-01 -1.00547196e-01 -1.78522572e-01  1.75102599e-01]\n",
            " [ 5.88235294e-02 -6.83994528e-02  1.84678523e-01 -1.12175103e-01]\n",
            " [-1.17647059e-01  9.02872777e-02 -4.37756498e-02  1.08071135e-01]\n",
            " [ 2.05991835e-17  1.16279070e-01  1.86046512e-01 -2.09302326e-01]]\n"
          ]
        }
      ]
    }
  ]
}