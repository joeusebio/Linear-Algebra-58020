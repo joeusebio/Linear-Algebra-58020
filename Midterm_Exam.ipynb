{
  "nbformat": 4,
  "nbformat_minor": 0,
  "metadata": {
    "colab": {
      "name": "Midterm Exam.ipynb",
      "provenance": [],
      "authorship_tag": "ABX9TyOwvmSkqAO3Hg9D0/kniqSq",
      "include_colab_link": true
    },
    "kernelspec": {
      "name": "python3",
      "display_name": "Python 3"
    },
    "language_info": {
      "name": "python"
    }
  },
  "cells": [
    {
      "cell_type": "markdown",
      "metadata": {
        "id": "view-in-github",
        "colab_type": "text"
      },
      "source": [
        "<a href=\"https://colab.research.google.com/github/joeusebio/Linear-Algebra-58020/blob/main/Midterm_Exam.ipynb\" target=\"_parent\"><img src=\"https://colab.research.google.com/assets/colab-badge.svg\" alt=\"Open In Colab\"/></a>"
      ]
    },
    {
      "cell_type": "markdown",
      "metadata": {
        "id": "qhvdSk8x5uqL"
      },
      "source": [
        "Question1. Create a Python code that displays a square matrix whose length is 5\n"
      ]
    },
    {
      "cell_type": "code",
      "metadata": {
        "colab": {
          "base_uri": "https://localhost:8080/"
        },
        "id": "lpAowbYE5p7n",
        "outputId": "23a6b464-895c-4a5e-c8e5-7dba852f2ab2"
      },
      "source": [
        "import numpy as np\n",
        "a= np.array([[1,2,3,4,5],[2,0,0,0,0],[3,0,0,0,0],[4,0,0,0,0],[5,0,0,0,0]]) #square matrix length is 5\n",
        "print(a)"
      ],
      "execution_count": 5,
      "outputs": [
        {
          "output_type": "stream",
          "name": "stdout",
          "text": [
            "[[1 2 3 4 5]\n",
            " [2 0 0 0 0]\n",
            " [3 0 0 0 0]\n",
            " [4 0 0 0 0]\n",
            " [5 0 0 0 0]]\n"
          ]
        }
      ]
    },
    {
      "cell_type": "markdown",
      "metadata": {
        "id": "3oEgLZy08Pm2"
      },
      "source": [
        "Question2.Create a Python code that displays a square matrix whose elements below the principal diagonal are zero"
      ]
    },
    {
      "cell_type": "code",
      "metadata": {
        "colab": {
          "base_uri": "https://localhost:8080/"
        },
        "id": "mDFHhgyz8bYg",
        "outputId": "5b3747eb-cbc1-4dd1-a179-99d17b11c37e"
      },
      "source": [
        "import numpy as np\n",
        "b = np.triu([[1,2,3,4,5],[6,7,8,9,25],[10,11,12,13,14],[15,16,17,18,19],[20,21,22,26,24]])#square matrix below the principal diagonal are zero\n",
        "print(b)"
      ],
      "execution_count": 22,
      "outputs": [
        {
          "output_type": "stream",
          "name": "stdout",
          "text": [
            "[[ 1  2  3  4  5]\n",
            " [ 0  7  8  9 25]\n",
            " [ 0  0 12 13 14]\n",
            " [ 0  0  0 18 19]\n",
            " [ 0  0  0  0 24]]\n"
          ]
        }
      ]
    },
    {
      "cell_type": "markdown",
      "metadata": {
        "id": "rjGoCFwp9EI2"
      },
      "source": [
        "Question 3. Create a Python code that displays a square matrix which is symmetrical"
      ]
    },
    {
      "cell_type": "code",
      "metadata": {
        "colab": {
          "base_uri": "https://localhost:8080/"
        },
        "id": "0sCvzy2C9Jll",
        "outputId": "30c0d31a-0700-4901-ade6-1e1fe27f98c2"
      },
      "source": [
        "import numpy as np\n",
        "symmetric=np.array([[1,2,3],[2,5,6],[3,8,9]])\n",
        "print(symmetric)# to display the matrix\n",
        "symmetric=np.transpose(symmetric)# to tranpose the matrix\n",
        "print(symmetric)\n"
      ],
      "execution_count": 25,
      "outputs": [
        {
          "output_type": "stream",
          "name": "stdout",
          "text": [
            "[[1 2 3]\n",
            " [2 5 6]\n",
            " [3 8 9]]\n",
            "[[1 2 3]\n",
            " [2 5 8]\n",
            " [3 6 9]]\n"
          ]
        }
      ]
    },
    {
      "cell_type": "markdown",
      "metadata": {
        "id": "Jq_vlLs19OVs"
      },
      "source": [
        "Question 4. What is the inverse of matrix C? Show your solution by python coding"
      ]
    },
    {
      "cell_type": "code",
      "metadata": {
        "colab": {
          "base_uri": "https://localhost:8080/"
        },
        "id": "-9nwe5Ee9Pr-",
        "outputId": "e6319262-3a0e-43f4-c5a5-e08d0afe2e97"
      },
      "source": [
        "import numpy as np\n",
        "\n",
        "c= np.array([[1,2,3],[2,3,3],[3,4,-2]])\n",
        "print(c)\n",
        "c_=np.linalg.inv(c)# to inverse the matrix i use linalg.inv\n",
        "print(c_)"
      ],
      "execution_count": 24,
      "outputs": [
        {
          "output_type": "stream",
          "name": "stdout",
          "text": [
            "[[ 1  2  3]\n",
            " [ 2  3  3]\n",
            " [ 3  4 -2]]\n",
            "[[-3.6  3.2 -0.6]\n",
            " [ 2.6 -2.2  0.6]\n",
            " [-0.2  0.4 -0.2]]\n"
          ]
        }
      ]
    },
    {
      "cell_type": "markdown",
      "metadata": {
        "id": "QvPpH_Qm9S6Z"
      },
      "source": [
        "uestion 5. What is the determinant of the given matrix in Question 4? Show your solution by python coding"
      ]
    },
    {
      "cell_type": "code",
      "metadata": {
        "colab": {
          "base_uri": "https://localhost:8080/"
        },
        "id": "21pfmm2T9T7W",
        "outputId": "4498bc2a-a68c-4f0f-802d-576ff34b8ba3"
      },
      "source": [
        "import numpy as np\n",
        "e= np.array([[1,2,3],[2,3,3],[3,4,-2]])\n",
        "print(e)\n",
        "print(round(np.linalg.det(e)))# to determine the matrix"
      ],
      "execution_count": 21,
      "outputs": [
        {
          "output_type": "stream",
          "name": "stdout",
          "text": [
            "[[ 1  2  3]\n",
            " [ 2  3  3]\n",
            " [ 3  4 -2]]\n",
            "5\n"
          ]
        }
      ]
    },
    {
      "cell_type": "markdown",
      "metadata": {
        "id": "d7bs10cu9X5H"
      },
      "source": [
        "Question 6. Find the roots of the linear equations by showing its python codes"
      ]
    },
    {
      "cell_type": "code",
      "metadata": {
        "colab": {
          "base_uri": "https://localhost:8080/",
          "height": 445
        },
        "id": "9_TmLrqn9Yxf",
        "outputId": "8cfcc9c3-761a-48b8-c477-448ba19c6986"
      },
      "source": [
        "import numpy as np\n",
        "a=np.array([[5,4,1],[10,9,4],[10,13,15]])\n",
        "inv_c=np.linalg.inv(c)\n",
        "print(c)\n",
        "print(inv_c)\n",
        "\n",
        "b=np.array([[3,4],[8,8],[19.2]])\n",
        "x=np.dot(inv_c,b)\n",
        "print(x)\n",
        "\n",
        "z=np.dot(c,x)\n",
        "print(z)"
      ],
      "execution_count": 34,
      "outputs": [
        {
          "output_type": "stream",
          "name": "stdout",
          "text": [
            "[[ 1  2  3]\n",
            " [ 2  3  3]\n",
            " [ 3  4 -2]]\n",
            "[[-3.6  3.2 -0.6]\n",
            " [ 2.6 -2.2  0.6]\n",
            " [-0.2  0.4 -0.2]]\n"
          ]
        },
        {
          "output_type": "stream",
          "name": "stderr",
          "text": [
            "/usr/local/lib/python3.7/dist-packages/ipykernel_launcher.py:7: VisibleDeprecationWarning: Creating an ndarray from ragged nested sequences (which is a list-or-tuple of lists-or-tuples-or ndarrays with different lengths or shapes) is deprecated. If you meant to do this, you must specify 'dtype=object' when creating the ndarray\n",
            "  import sys\n"
          ]
        },
        {
          "output_type": "error",
          "ename": "TypeError",
          "evalue": "ignored",
          "traceback": [
            "\u001b[0;31m---------------------------------------------------------------------------\u001b[0m",
            "\u001b[0;31mTypeError\u001b[0m                                 Traceback (most recent call last)",
            "\u001b[0;32m<ipython-input-34-698468c7f1e6>\u001b[0m in \u001b[0;36m<module>\u001b[0;34m()\u001b[0m\n\u001b[1;32m      6\u001b[0m \u001b[0;34m\u001b[0m\u001b[0m\n\u001b[1;32m      7\u001b[0m \u001b[0mb\u001b[0m\u001b[0;34m=\u001b[0m\u001b[0mnp\u001b[0m\u001b[0;34m.\u001b[0m\u001b[0marray\u001b[0m\u001b[0;34m(\u001b[0m\u001b[0;34m[\u001b[0m\u001b[0;34m[\u001b[0m\u001b[0;36m3\u001b[0m\u001b[0;34m,\u001b[0m\u001b[0;36m4\u001b[0m\u001b[0;34m]\u001b[0m\u001b[0;34m,\u001b[0m\u001b[0;34m[\u001b[0m\u001b[0;36m8\u001b[0m\u001b[0;34m,\u001b[0m\u001b[0;36m8\u001b[0m\u001b[0;34m]\u001b[0m\u001b[0;34m,\u001b[0m\u001b[0;34m[\u001b[0m\u001b[0;36m19.2\u001b[0m\u001b[0;34m]\u001b[0m\u001b[0;34m]\u001b[0m\u001b[0;34m)\u001b[0m\u001b[0;34m\u001b[0m\u001b[0;34m\u001b[0m\u001b[0m\n\u001b[0;32m----> 8\u001b[0;31m \u001b[0mx\u001b[0m\u001b[0;34m=\u001b[0m\u001b[0mnp\u001b[0m\u001b[0;34m.\u001b[0m\u001b[0mdot\u001b[0m\u001b[0;34m(\u001b[0m\u001b[0minv_c\u001b[0m\u001b[0;34m,\u001b[0m\u001b[0mb\u001b[0m\u001b[0;34m)\u001b[0m\u001b[0;34m\u001b[0m\u001b[0;34m\u001b[0m\u001b[0m\n\u001b[0m\u001b[1;32m      9\u001b[0m \u001b[0mprint\u001b[0m\u001b[0;34m(\u001b[0m\u001b[0mx\u001b[0m\u001b[0;34m)\u001b[0m\u001b[0;34m\u001b[0m\u001b[0;34m\u001b[0m\u001b[0m\n\u001b[1;32m     10\u001b[0m \u001b[0;34m\u001b[0m\u001b[0m\n",
            "\u001b[0;32m<__array_function__ internals>\u001b[0m in \u001b[0;36mdot\u001b[0;34m(*args, **kwargs)\u001b[0m\n",
            "\u001b[0;31mTypeError\u001b[0m: can't multiply sequence by non-int of type 'float'"
          ]
        }
      ]
    }
  ]
}