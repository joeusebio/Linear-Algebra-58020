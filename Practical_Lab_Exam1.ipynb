{
  "nbformat": 4,
  "nbformat_minor": 0,
  "metadata": {
    "colab": {
      "name": "Practical Lab Exam1.ipynb",
      "provenance": [],
      "authorship_tag": "ABX9TyNfBJY6Go4dP5kCqX+GckIh",
      "include_colab_link": true
    },
    "kernelspec": {
      "name": "python3",
      "display_name": "Python 3"
    },
    "language_info": {
      "name": "python"
    }
  },
  "cells": [
    {
      "cell_type": "markdown",
      "metadata": {
        "id": "view-in-github",
        "colab_type": "text"
      },
      "source": [
        "<a href=\"https://colab.research.google.com/github/joeusebio/Linear-Algebra-58020/blob/main/Practical_Lab_Exam1.ipynb\" target=\"_parent\"><img src=\"https://colab.research.google.com/assets/colab-badge.svg\" alt=\"Open In Colab\"/></a>"
      ]
    },
    {
      "cell_type": "code",
      "metadata": {
        "colab": {
          "base_uri": "https://localhost:8080/"
        },
        "id": "Ri7Z7CozDP8a",
        "outputId": "6d23c934-eef5-433d-dda3-ad15eea326f7"
      },
      "source": [
        "import numpy as np\n",
        "W = np.array([[1,3],[2,-2],[3,1]])\n",
        "print(\"W\")\n",
        "print(W)\n",
        "\n",
        "X = np.array([[3,2,1],[-1,2,3],[2,-1,1]])\n",
        "print(\"X\")\n",
        "print(X)\n",
        "\n",
        "Y = np.array([[1,2,0],[0,-1,2]])\n",
        "print(\"Y\")\n",
        "print(Y)\n",
        "\n",
        "Z = np.array([[0,1],[2,3]])\n",
        "print(\"Z\")\n",
        "print(Z)\n",
        "\n",
        "\n"
      ],
      "execution_count": 12,
      "outputs": [
        {
          "output_type": "stream",
          "name": "stdout",
          "text": [
            "W\n",
            "[[ 1  3]\n",
            " [ 2 -2]\n",
            " [ 3  1]]\n",
            "X\n",
            "[[ 3  2  1]\n",
            " [-1  2  3]\n",
            " [ 2 -1  1]]\n",
            "Y\n",
            "[[ 1  2  0]\n",
            " [ 0 -1  2]]\n",
            "Z\n",
            "[[0 1]\n",
            " [2 3]]\n"
          ]
        }
      ]
    },
    {
      "cell_type": "markdown",
      "metadata": {
        "id": "6nCglE5JNWTH"
      },
      "source": [
        "problem1"
      ]
    },
    {
      "cell_type": "markdown",
      "metadata": {
        "id": "L1oXiq-x-z__"
      },
      "source": [
        "A\n"
      ]
    },
    {
      "cell_type": "code",
      "metadata": {
        "colab": {
          "base_uri": "https://localhost:8080/"
        },
        "id": "LsjGfJ769ZBu",
        "outputId": "885a3270-9157-46b5-9509-29cbca4c9f5c"
      },
      "source": [
        "print(\"WY\")\n",
        "WY = np.dot(W,Y)\n",
        "print(WY)"
      ],
      "execution_count": 49,
      "outputs": [
        {
          "output_type": "stream",
          "name": "stdout",
          "text": [
            "WY\n",
            "[[ 1  5 -6]\n",
            " [ 2  6 -4]\n",
            " [ 3  5  2]]\n"
          ]
        }
      ]
    },
    {
      "cell_type": "markdown",
      "metadata": {
        "id": "_0XjXGNu-3Ln"
      },
      "source": [
        "B\n"
      ]
    },
    {
      "cell_type": "code",
      "metadata": {
        "colab": {
          "base_uri": "https://localhost:8080/"
        },
        "id": "3Jo4bDfg-jMp",
        "outputId": "a7465729-15cb-4ce4-f89c-e78ff1fd84fb"
      },
      "source": [
        "R = np.add(Z,Z)\n",
        "R\n"
      ],
      "execution_count": 16,
      "outputs": [
        {
          "output_type": "execute_result",
          "data": {
            "text/plain": [
              "array([[0, 2],\n",
              "       [4, 6]])"
            ]
          },
          "metadata": {},
          "execution_count": 16
        }
      ]
    },
    {
      "cell_type": "markdown",
      "metadata": {
        "id": "2HoA0JkjB903"
      },
      "source": [
        "C"
      ]
    },
    {
      "cell_type": "code",
      "metadata": {
        "colab": {
          "base_uri": "https://localhost:8080/"
        },
        "id": "3_L1g6H5B5zC",
        "outputId": "3535fcbb-57a4-49e5-ccad-d4e9af855b7a"
      },
      "source": [
        "X = np.array([[3,2,1],[-1,2,3],[2,-1,1]])\n",
        "S = 3*X\n",
        "print(S)"
      ],
      "execution_count": 17,
      "outputs": [
        {
          "output_type": "stream",
          "name": "stdout",
          "text": [
            "[[ 9  6  3]\n",
            " [-3  6  9]\n",
            " [ 6 -3  3]]\n"
          ]
        }
      ]
    },
    {
      "cell_type": "markdown",
      "metadata": {
        "id": "qJcm17thNf3-"
      },
      "source": [
        "problem 2\n"
      ]
    },
    {
      "cell_type": "markdown",
      "metadata": {
        "id": "FIItSNQdOhC-"
      },
      "source": [
        "A"
      ]
    },
    {
      "cell_type": "code",
      "metadata": {
        "colab": {
          "base_uri": "https://localhost:8080/"
        },
        "id": "Az2GBNjvNeBr",
        "outputId": "9047f952-cb98-4fa6-f5fb-496cc5817d87"
      },
      "source": [
        "yw = np.dot(Y,W)\n",
        "product = np.power(yw,2)\n",
        "print(product)\n",
        "print(\"false \\n\")"
      ],
      "execution_count": 24,
      "outputs": [
        {
          "output_type": "stream",
          "name": "stdout",
          "text": [
            "[[25 49]\n",
            " [16 16]]\n",
            "false \n",
            "\n"
          ]
        }
      ]
    },
    {
      "cell_type": "markdown",
      "metadata": {
        "id": "fMZ0DAskRiyW"
      },
      "source": [
        "B"
      ]
    },
    {
      "cell_type": "code",
      "metadata": {
        "colab": {
          "base_uri": "https://localhost:8080/"
        },
        "id": "AJ52Do93OchH",
        "outputId": "1da9874a-a786-4a2b-d278-e482b95f0802"
      },
      "source": [
        "R = np.subtract(WY,X)\n",
        "print(R)\n",
        "print(\"true\\n\")"
      ],
      "execution_count": 50,
      "outputs": [
        {
          "output_type": "stream",
          "name": "stdout",
          "text": [
            "[[-2  3 -7]\n",
            " [ 3  4 -7]\n",
            " [ 1  6  1]]\n",
            "true\n",
            "\n"
          ]
        }
      ]
    },
    {
      "cell_type": "markdown",
      "metadata": {
        "id": "Rigp-_lkYcrG"
      },
      "source": [
        "C"
      ]
    },
    {
      "cell_type": "code",
      "metadata": {
        "colab": {
          "base_uri": "https://localhost:8080/"
        },
        "id": "88rSB26kTocc",
        "outputId": "772bb721-922e-4182-903e-dc6e7dc5cff2"
      },
      "source": [
        "C = np.dot(Y,W)\n",
        "R = np.subtract(C,Z^2)\n",
        "print(R)\n",
        "print(\"false\")"
      ],
      "execution_count": 34,
      "outputs": [
        {
          "output_type": "stream",
          "name": "stdout",
          "text": [
            "[[  3 -10]\n",
            " [  4   3]]\n",
            "false\n"
          ]
        }
      ]
    }
  ]
}